{
  "nbformat": 4,
  "nbformat_minor": 0,
  "metadata": {
    "colab": {
      "provenance": [],
      "authorship_tag": "ABX9TyNMeYJD7km3UGB5ejLbTwnV",
      "include_colab_link": true
    },
    "kernelspec": {
      "name": "python3",
      "display_name": "Python 3"
    },
    "language_info": {
      "name": "python"
    }
  },
  "cells": [
    {
      "cell_type": "markdown",
      "metadata": {
        "id": "view-in-github",
        "colab_type": "text"
      },
      "source": [
        "<a href=\"https://colab.research.google.com/github/cata603/An-litica-de-negocios/blob/main/Actividad_2.ipynb\" target=\"_parent\"><img src=\"https://colab.research.google.com/assets/colab-badge.svg\" alt=\"Open In Colab\"/></a>"
      ]
    },
    {
      "cell_type": "markdown",
      "source": [
        "Importar las librerias necesarias"
      ],
      "metadata": {
        "id": "jPesqxN21Zmd"
      }
    },
    {
      "cell_type": "code",
      "execution_count": null,
      "metadata": {
        "id": "Uj8IvSGOCQbb"
      },
      "outputs": [],
      "source": [
        "import numpy as np  # Contiene funciones numéricas de transformación y análisis de datos\n",
        "import pandas as pd  # Sirve para conectar el sistema con las bases de datos\n",
        "from sklearn.tree import DecisionTreeClassifier  # Importa el árbol de decisión\n",
        "from sklearn.metrics import confusion_matrix # Importa la métrica de matriz de confusión para evaluar el modelo"
      ]
    },
    {
      "cell_type": "markdown",
      "source": [
        "1.\tEl archivo Google Colab, llevar a cabo la descripción de cada una de las variables de acuerdo con el libro guía, esto con el fin de dar mayor contexto al análisis."
      ],
      "metadata": {
        "id": "iePH8vaweZIE"
      }
    },
    {
      "cell_type": "markdown",
      "source": [
        "**Cargar el archivo y seleccionar variables** - Descripción de las variables\n",
        "\n",
        "**Sales_Rep (int)** Identificador único de cada representante de ventas.\n",
        "\n",
        "**Business (str)** Industria en la que trabaja el representante (Ejemplo: \"Hardware\", \"Software\").\n",
        "\n",
        "**Age (int)** Edad del representante de ventas en años.\n",
        "\n",
        "**Female (bool)** Indica si el representante se identifica como mujer (1 = Sí, 0 = No).\n",
        "\n",
        "**Years (int)** Años de experiencia en ventas dentro de la industria.\n",
        "\n",
        "**College (str)** Indica si el representante asistió a la universidad y posee titulo (\"Yes\" = Sí, \"No\" = No).\n",
        "\n",
        "**Personality (str)** Tipo de personalidad del representante de ventas (Ejemplo: \"Diplomat\", \"Explorer\").\n",
        "\n",
        "**Certificates (int)** Número de certificaciones profesionales obtenidas en ventas o tecnología.\n",
        "\n",
        "**Feedback (float)** Puntuación promedio recibida en evaluaciones de desempeño (escala de 1 a 10).\n",
        "\n",
        "**Salary (float)**Ingreso anual del representante en dólares (USD).\n",
        "\n",
        "**NPS (int)** Puntuación del Net Promoter Score (de -100 a 100), que mide la satisfacción y lealtad del cliente respecto al representante."
      ],
      "metadata": {
        "id": "GQ34WTS34l2P"
      }
    },
    {
      "cell_type": "markdown",
      "source": [
        "2.\tTomar máximo 4 niveles de análisis para la estructura del árbol de decisión."
      ],
      "metadata": {
        "id": "pe8mcB9FduDx"
      }
    },
    {
      "cell_type": "code",
      "source": [
        "nxl = \"/content/2. TechSalesReport_Int_L.xlsx\"  # Ruta del archivo Excel que contiene los datos\n",
        "XDB = pd.read_excel(nxl, sheet_name=0)  #Cargar los datos\n",
        "\n",
        "# Reemplazar valores de 'Business' por valores numéricos,'Hardware' se convierte en 0, 'Software' se convierte en 1\n",
        "XDB['Business'] = XDB['Business'].replace({'Hardware': 0, 'Software': 1})\n",
        "\n",
        "# Reemplazar valores en la columna 'College' por valores numéricos, 'Yes' se convierte en 1, 'No' se convierte en 0\n",
        "XDB['College'] = XDB['College'].replace({'Yes': 1, 'No': 0})\n",
        "\n",
        "XDB.head(100)  #Para ver las primeras 100 filas\n",
        "\n",
        "# Selección de las columnas a excepción de la variable personalidad\n",
        "XD = XDB[['Business', 'Age', 'Female', 'Years', 'Certificates', 'Feedback', 'Salary', 'NPS']]\n",
        "\n",
        "# Seleccionar la variable objetivo, la cual indica si la persona asistió a la universidad o no\n",
        "yd = XDB[['College']]\n",
        "\n",
        "# Obtener estadísticas descriptivas del conjunto de datos (promedio, desviación estándar, valores mínimos y máximos, etc.) con el fin de dar mayor contexto al análisis\n",
        "print(XDB.describe())\n"
      ],
      "metadata": {
        "colab": {
          "base_uri": "https://localhost:8080/"
        },
        "id": "F_W9UK1L2FO4",
        "outputId": "e542cc16-efd7-4d8d-991b-56d42f056e09"
      },
      "execution_count": null,
      "outputs": [
        {
          "output_type": "stream",
          "name": "stdout",
          "text": [
            "          Sales_Rep      Business           Age        Female         Years  \\\n",
            "count  21990.000000  21990.000000  21990.000000  21990.000000  21990.000000   \n",
            "mean   10995.500000      0.551614     41.495953      0.383038      2.646385   \n",
            "std     6348.110546      0.497340     11.413748      0.486138      2.434109   \n",
            "min        1.000000      0.000000     21.000000      0.000000      1.000000   \n",
            "25%     5498.250000      0.000000     32.000000      0.000000      1.000000   \n",
            "50%    10995.500000      1.000000     41.000000      0.000000      2.000000   \n",
            "75%    16492.750000      1.000000     51.000000      1.000000      2.000000   \n",
            "max    21990.000000      1.000000     65.000000      1.000000     13.000000   \n",
            "\n",
            "            College  Certificates      Feedback         Salary           NPS  \n",
            "count  21990.000000  21990.000000  21990.000000   21990.000000  21990.000000  \n",
            "mean       0.796726      2.612187      2.664525   73673.778990      6.278445  \n",
            "std        0.402444      1.648258      0.836770   22769.906232      2.163074  \n",
            "min        0.000000      0.000000      1.080000   21000.000000      1.000000  \n",
            "25%        1.000000      1.000000      1.990000   57000.000000      5.000000  \n",
            "50%        1.000000      2.000000      2.660000   70000.000000      6.000000  \n",
            "75%        1.000000      4.000000      3.390000   87000.000000      8.000000  \n",
            "max        1.000000      6.000000      4.000000  197000.000000     10.000000  \n"
          ]
        },
        {
          "output_type": "stream",
          "name": "stderr",
          "text": [
            "<ipython-input-6-3a07c033bab4>:5: FutureWarning: Downcasting behavior in `replace` is deprecated and will be removed in a future version. To retain the old behavior, explicitly call `result.infer_objects(copy=False)`. To opt-in to the future behavior, set `pd.set_option('future.no_silent_downcasting', True)`\n",
            "  XDB['Business'] = XDB['Business'].replace({'Hardware': 0, 'Software': 1})\n",
            "<ipython-input-6-3a07c033bab4>:8: FutureWarning: Downcasting behavior in `replace` is deprecated and will be removed in a future version. To retain the old behavior, explicitly call `result.infer_objects(copy=False)`. To opt-in to the future behavior, set `pd.set_option('future.no_silent_downcasting', True)`\n",
            "  XDB['College'] = XDB['College'].replace({'Yes': 1, 'No': 0})\n"
          ]
        }
      ]
    },
    {
      "cell_type": "markdown",
      "source": [
        "Implementación del modelo"
      ],
      "metadata": {
        "id": "UmoH0UqD7dnn"
      }
    },
    {
      "cell_type": "markdown",
      "source": [
        "3.\tLlevar a cabo la caracterización de la base de datos, total de personas, número de personas inscritas y número de personas no escritas."
      ],
      "metadata": {
        "id": "2umemUCmemEu"
      }
    },
    {
      "cell_type": "code",
      "source": [
        "from sklearn.tree import DecisionTreeClassifier  #Importación de la libreria necesaria para el modelo\n",
        "\n",
        "# Creación del modelo de árbol de decisión\n",
        "mar = DecisionTreeClassifier(criterion='gini', max_depth=4)\n",
        "\n",
        "mar.fit(XD, yd) #se le dan al modelo las variables predictoras\n",
        "from sklearn.tree import export_graphviz  # Exportar el modelo en formato DOT (gráfico)\n",
        "from pydotplus import graph_from_dot_data  # Convertir el archivo  en una imagen\n",
        "\n",
        "# Definir los nombres de las variables a usar\n",
        "vs = ['Business', 'Age', 'Female', 'Years', 'Certificates', 'Feedback', 'Salary', 'NPS']\n",
        "\n",
        "dot_data = export_graphviz(mar, feature_names=vs) #se genera la presentación del arbol\n",
        "graph = graph_from_dot_data(dot_data) #Se convierte la representación DOT en un gráfico\n",
        "\n",
        "graph.write_png('ArbolCollege.png') #Se Guardar el árbol de decisión como una imagen\n",
        "\n",
        "total_personas = XDB.shape[0] #Para obtener el total\n",
        "\n",
        "# Contar cuántas personas tienen un título universitario (College = 1)\n",
        "con_titulo = XDB['College'].sum()\n",
        "\n",
        "# Contar cuántas personas no tienen título universitario (College = 0)\n",
        "sin_titulo = (XDB['College'] == 0).sum()\n",
        "\n",
        "# Imprimir los resultados\n",
        "print(f\"Total de personas: {total_personas}\")\n",
        "print(f\"Con título universitario: {con_titulo}\")\n",
        "print(f\"Sin título universitario: {sin_titulo}\")"
      ],
      "metadata": {
        "colab": {
          "base_uri": "https://localhost:8080/"
        },
        "id": "bTRF_9EGIyRr",
        "outputId": "f66c3ce4-59ec-4bf7-bf80-c45e06a3fbae"
      },
      "execution_count": null,
      "outputs": [
        {
          "output_type": "stream",
          "name": "stdout",
          "text": [
            "Total de personas: 21990\n",
            "Con título universitario: 17520\n",
            "Sin título universitario: 4470\n"
          ]
        }
      ]
    },
    {
      "cell_type": "markdown",
      "source": [
        "Evaluar el modelo\n",
        "6.\tDeterminar las métricas de desempeño del modelo mediante la utilización de la matriz de confusión sobre el total de los datos."
      ],
      "metadata": {
        "id": "YX54UeZi94QI"
      }
    },
    {
      "cell_type": "code",
      "source": [
        "ydp=mar.predict(XD)\n",
        "cm=confusion_matrix(yd,ydp) # Generar la matriz de confusión para evaluar el rendimiento del modelo\n",
        "print(cm)\n",
        "\n",
        "# Extraer los valores de la matriz de confusión:\n",
        "VN=cm[0][0]  # Verdaderos negativos\n",
        "FP=cm[0][1]  # Falsos positivos\n",
        "FN=cm[1][0]  # Falsos negativos\n",
        "VP=cm[1][1]  # Verdaderos positivos\n",
        "\n",
        "Ex=(VP+VN)/(VP+VN+FP+FN) # Calcula y muestra la exactitud del modelo, funcionamiento general del modelo\n",
        "print (\"La exactitud del modelo es\", Ex)\n",
        "\n",
        "TE=(FP+FN)/(VP+VN+FP+FN) # Calcula y muestra el error del modelo\n",
        "print (\"El error del modelo es\", TE)\n",
        "\n",
        "Sen= VP/(VP+FN) # Calcula y muestra la sensibilidad (capacidad del modelo para identificar correctamente a quienes tienen título)\n",
        "print (\"La sensibilidad del modelo es\", Sen)\n",
        "\n",
        "ESP= VN/(VN+FP) # Calcula y muestra la especificidad (capacidad del modelo para identificar correctamente a quienes no tienen título)\n",
        "print (\"La especificidad del modelo es\", ESP)\n",
        "\n",
        "pre= VP/(VP+FP) # Calcula y muestra la precisión (porcentaje de los clasificados como con título que realmente lo tienen)\n",
        "print (\"La precisión del modelo es\", pre)\n",
        "\n",
        "pren= VN/(VN+FN) # Calcula y muestra la precisión negativa (porcentaje de los clasificados como sin título que realmente no lo tienen)\n",
        "print (\"La precisión negativa del modelo es\", pren)"
      ],
      "metadata": {
        "colab": {
          "base_uri": "https://localhost:8080/"
        },
        "id": "HQSMgK3EMXqg",
        "outputId": "5e880d07-3c0d-4ff1-aee8-a984e9fb6552"
      },
      "execution_count": null,
      "outputs": [
        {
          "output_type": "stream",
          "name": "stdout",
          "text": [
            "[[  114  4356]\n",
            " [   69 17451]]\n",
            "La exactitud del modelo es 0.7987721691678036\n",
            "El error del modelo es 0.20122783083219645\n",
            "La sensibilidad del modelo es 0.9960616438356165\n",
            "La especificidad del modelo es 0.025503355704697986\n",
            "La precisión del modelo es 0.8002476269087908\n",
            "La precisión negativa del modelo es 0.6229508196721312\n"
          ]
        }
      ]
    },
    {
      "cell_type": "markdown",
      "source": [
        "5.\tLlevar a cabo el pronóstico del título Universitario para las personas agrupadas en la base de datos de pronóstico.\n",
        "7.\tCrear los informes de pronóstico en un archivo de Excel."
      ],
      "metadata": {
        "id": "8RCaSB1b-6tB"
      }
    },
    {
      "cell_type": "code",
      "source": [
        "XDB2 = pd.read_excel(nxl, sheet_name=1)\n",
        "XDB2.head(100)  # Mostrar las primeras 100 filas para verificar la carga de datos\n",
        "\n",
        "XDB2['Business'] = XDB2['Business'].map({'Hardware': 0, 'Software': 1}) # se convierte la variable 'Business' en valores numéricos\n",
        "XDB2['College'] = np.nan # Crear la columna 'College' con valores vacíos (NaN)\n",
        "print(XDB2) #Para ver los valores\n",
        "\n",
        "# Extraer la variable dependiente (a predecir), que en este caso es 'College'\n",
        "yd2 = XDB2[['College']]\n",
        "yd2.head(10) #Para ver las primeras 10 filas\n",
        "\n",
        "filas = np.where(np.isnan(yd2))[0]  # Devuelve los índices de las filas sin información\n",
        "print(\"Las filas que no poseen información:\\n\", filas)\n",
        "\n",
        "# Seleccionar las características de los solicitantes sin información en 'College'\n",
        "XD2 = XDB2[['Business','Age','Female','Years','Certificates','Feedback','Salary','NPS']]\n",
        "XD2 = XD2.iloc[filas,]  # Extraer solo las filas sin información en 'College'\n",
        "\n",
        "# Realizar la predicción con el modelo\n",
        "ydp2 = mar.predict(XD2)\n",
        "print(\"Las predicciones son:\\n\", ydp2)\n",
        "\n",
        "# Crear un informe con los resultados de la predicción\n",
        "dfpronostico = pd.DataFrame(np.column_stack((filas, XD2, ydp2)))\n",
        "dfpronostico.columns = ['Fila','Business','Age','Female','Years','Certificates','Feedback','Salary','NPS', 'College']\n",
        "dfpronostico.head(10)  # Mostrar las primeras 10 filas del informe\n",
        "\n",
        "# Guardar el informe en un archivo Excel\n",
        "dfpronostico.to_excel('Informe.xlsx')\n",
        "\n",
        "# Ver cuántos solicitantes fueron predichos como con título universitario o sin el\n",
        "print(\"Cantidad de personas sin título universitario (predicción = 0):\", len(np.where(ydp2 == 0)[0]))\n",
        "print(\"Cantidad de personas con título universitario (predicción = 1):\", len(np.where(ydp2 == 1)[0]))\n"
      ],
      "metadata": {
        "colab": {
          "base_uri": "https://localhost:8080/"
        },
        "id": "AHrGncLzGex8",
        "outputId": "7391986f-8cc6-41f3-faf0-c391697f7c9f"
      },
      "execution_count": null,
      "outputs": [
        {
          "output_type": "stream",
          "name": "stdout",
          "text": [
            "    Sales_Rep  Business  Age  Female  Years Personality  Certificates  \\\n",
            "0           1         0   63       0      2    Sentinel             5   \n",
            "1           2         1   38       1      2    Diplomat             4   \n",
            "2           3         1   47       0      1     Analyst             2   \n",
            "3           4         1   25       0      1    Explorer             2   \n",
            "4           5         0   49       0     10    Explorer             4   \n",
            "5           6         1   48       0      1    Diplomat             1   \n",
            "6           7         1   25       1      1    Explorer             6   \n",
            "7           8         0   39       0      1    Diplomat             2   \n",
            "8           9         1   29       0      1    Explorer             5   \n",
            "9          10         1   45       1      3    Diplomat             3   \n",
            "10         11         0   35       0      6    Diplomat             1   \n",
            "11         12         0   30       0      4    Diplomat             2   \n",
            "12         13         1   28       0      1     Analyst             6   \n",
            "13         14         0   41       0      1    Sentinel             4   \n",
            "14         15         1   51       1      2    Diplomat             3   \n",
            "15         16         0   56       0      9    Diplomat             1   \n",
            "\n",
            "    Feedback  Salary  NPS  College  \n",
            "0       3.49  133000    8      NaN  \n",
            "1       3.33   80400    6      NaN  \n",
            "2       2.12   57000    7      NaN  \n",
            "3       2.89   79000    7      NaN  \n",
            "4       2.52  127000    6      NaN  \n",
            "5       3.35   62000    6      NaN  \n",
            "6       1.16   74000    7      NaN  \n",
            "7       2.12  112000    5      NaN  \n",
            "8       2.74   78000    8      NaN  \n",
            "9       2.90   74000    7      NaN  \n",
            "10      3.79   90000    8      NaN  \n",
            "11      2.50   69000    8      NaN  \n",
            "12      1.50   63000    6      NaN  \n",
            "13      1.35   51000    4      NaN  \n",
            "14      2.95   80800   10      NaN  \n",
            "15      3.28   68000    4      NaN  \n",
            "Las filas que no poseen información:\n",
            " [ 0  1  2  3  4  5  6  7  8  9 10 11 12 13 14 15]\n",
            "Las predicciones son:\n",
            " [1 1 1 1 1 1 1 1 1 1 1 1 1 1 1 1]\n",
            "Cantidad de personas sin título universitario (predicción = 0): 0\n",
            "Cantidad de personas con título universitario (predicción = 1): 16\n"
          ]
        }
      ]
    },
    {
      "cell_type": "markdown",
      "source": [
        "4.\tDeterminar el número de nodos puros para el árbol asociado con la estructura del modelo."
      ],
      "metadata": {
        "id": "wLpWWYKEev9B"
      }
    },
    {
      "cell_type": "markdown",
      "source": [
        "**Análisis**\n",
        "\n",
        "Al analizar el árbol de decisión, pueden notarse que no se cuenta con ningún nodo puro, lo cual significa que no logra separar completamente las clases, lo que puede indicar que los datos no son fácilmente separables, que hay ruido o que las características utilizadas no son suficientemente discriminantes.\n",
        "\n",
        " Para la implementación del modelo se tomaron un total de 9 variables de 10 en total, 8 variables de entrada en las que se destacan 'Business','Age','Female','Years','Certificates','Feedback','Salary','NPS' , y una variable de salida que permite evaluar si se cuenta con un título universitario o no. Para la construcción del modelo se tuvieron un total de 21,198 datos, de los cuales 17,529 fueron clasificados como personas con título universitario y 4,748 como personas sin este.\n",
        " El modelo alcanzó una exactitud del 79%, lo que indica un buen rendimiento en la clasificación de los datos. Por otro lado, La sensibilidad fue del 99% practicamentte un 100%, lo que significa que identificó correctamente a practicamente todas las personas con título universitario. Además, la precisión del 80% confirma que la mayoría de las predicciones positivas fueron correctas.\n",
        "\n",
        " En cuanto al pronóstico, el modelo indicó que 16 de los datos probablemte poseean titulo universitario (lo cual es el 100% de los datos entregados) es importante resaltar que la especificidad del modelo es muy baja, de un 0,02, lo cual nos indica que no es muy bueno identificando a aquellos que no poseen título universitario."
      ],
      "metadata": {
        "id": "OQusA4gtA1cY"
      }
    }
  ]
}