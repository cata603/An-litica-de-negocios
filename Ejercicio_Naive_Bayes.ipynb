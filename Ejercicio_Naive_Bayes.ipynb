{
  "nbformat": 4,
  "nbformat_minor": 0,
  "metadata": {
    "colab": {
      "provenance": [],
      "authorship_tag": "ABX9TyM7chLi4IbzMjs6xLkKvB71",
      "include_colab_link": true
    },
    "kernelspec": {
      "name": "python3",
      "display_name": "Python 3"
    },
    "language_info": {
      "name": "python"
    }
  },
  "cells": [
    {
      "cell_type": "markdown",
      "metadata": {
        "id": "view-in-github",
        "colab_type": "text"
      },
      "source": [
        "<a href=\"https://colab.research.google.com/github/cata603/An-litica-de-negocios/blob/main/Ejercicio_Naive_Bayes.ipynb\" target=\"_parent\"><img src=\"https://colab.research.google.com/assets/colab-badge.svg\" alt=\"Open In Colab\"/></a>"
      ]
    },
    {
      "cell_type": "markdown",
      "source": [
        "0. Importar las librerías necesarias"
      ],
      "metadata": {
        "id": "yzFp2rSTn45v"
      }
    },
    {
      "cell_type": "code",
      "execution_count": null,
      "metadata": {
        "id": "iUs7tOFws_VK"
      },
      "outputs": [],
      "source": [
        "import numpy as np  # Contiene funciones numéricas de transformación y análisis de datos\n",
        "import pandas as pd  # Sirve para conectar el sistema con las bases de datos\n",
        "from sklearn.naive_bayes import GaussianNB  # Algoritmo Naive Bayes, usado para clasificación"
      ]
    },
    {
      "cell_type": "markdown",
      "source": [
        "1. Cargar la base de datos de accidentes desde el archivo Excel"
      ],
      "metadata": {
        "id": "6k-lI2XDoJAi"
      }
    },
    {
      "cell_type": "code",
      "source": [
        "nxl = \"/content/1. BD2_CarCrash_Int.xlsx\"  # Ruta del archivo\n",
        "XDB = pd.read_excel(nxl, sheet_name=0)  # Para leer los datos de la primera hoja del archivo Excel"
      ],
      "metadata": {
        "id": "wpgGKNuFxFhx"
      },
      "execution_count": null,
      "outputs": []
    },
    {
      "cell_type": "markdown",
      "source": [
        "2. Seleccionar las columnas relevantes para el análisis y filtrar"
      ],
      "metadata": {
        "id": "lLHHK44Wo2OF"
      }
    },
    {
      "cell_type": "markdown",
      "source": [
        "3. Separar las variables de entrada y salida y apicar el metodo Naive bayes:"
      ],
      "metadata": {
        "id": "h3l0HoB8pmvj"
      }
    },
    {
      "cell_type": "code",
      "source": [
        "X = XDB1[['Weekday', 'ViolCat', 'ClearWeather', 'Month', 'CrashType', 'Daylight']]  # Variables explicativas\n",
        "y = XDB1['Highway']  # Variable objetivo (si ocurrió en una autopista o no)\n",
        "\n",
        "\n",
        "mnb=GaussianNB()  #mnb= model naive bayes\n",
        "mnb.fit(X,y)   # Para entrenar el modelo usando las variables\n",
        "\n",
        "ct=mnb.class_count_  # Muestra la distribución de las clases en el modelo entrenado\n",
        "print (\"Como estan separados los datos\", ct)\n",
        "print (\"El total de los datos es\", len(X))\n",
        "print (\"Los datos porcentuales estab div:\", ct/len(X))\n",
        "\n",
        "#Para evaluar un caso puntual\n",
        "XS=[[5,1,1,3,4,0]]\n",
        "XS= mnb.predict(XS)\n",
        "print(XS)\n"
      ],
      "metadata": {
        "colab": {
          "base_uri": "https://localhost:8080/"
        },
        "id": "NHlH0ZB7Cpip",
        "outputId": "6c5dd237-d930-4939-d3a9-90cfffe7b22d"
      },
      "execution_count": null,
      "outputs": [
        {
          "output_type": "stream",
          "name": "stdout",
          "text": [
            "Como estan separados los datos [1580.  501.]\n",
            "El total de los datos es 2081\n",
            "Los datos porcentuales estab div: [0.75925036 0.24074964]\n",
            "[0]\n"
          ]
        },
        {
          "output_type": "stream",
          "name": "stderr",
          "text": [
            "/usr/local/lib/python3.11/dist-packages/sklearn/utils/validation.py:2739: UserWarning: X does not have valid feature names, but GaussianNB was fitted with feature names\n",
            "  warnings.warn(\n"
          ]
        }
      ]
    },
    {
      "cell_type": "markdown",
      "source": [
        "4. Hallar datos relevantes (media, desviación, limites superiores e inferiores)"
      ],
      "metadata": {
        "id": "3i3zxPgyq2wi"
      }
    },
    {
      "cell_type": "code",
      "source": [
        "u = mnb.theta_  # Media de cada variable para cada categoría de 'Highway'\n",
        "print(\"La media de las variables por categoría de accidente en autopista es:\\n\", u)\n",
        "\n",
        "std = np.sqrt(mnb.var_)  # Desviación  para cada variable\n",
        "print(\"La desviación estándar de las variables es:\\n\", std)\n",
        "\n",
        "# Límites superior e inferior para cada variable en cada categoría\n",
        "print(\"El límite superior de las variables es:\\n\", u + std)\n",
        "print(\"El límite inferior de las variables es:\\n\", u - std)"
      ],
      "metadata": {
        "colab": {
          "base_uri": "https://localhost:8080/"
        },
        "id": "99wy1RCCJyHk",
        "outputId": "6d1a22c4-239c-48f8-cb34-0694050686db"
      },
      "execution_count": null,
      "outputs": [
        {
          "output_type": "stream",
          "name": "stdout",
          "text": [
            "La media de las variables por categoría de accidente en autopista es:\n",
            " [[3.88417722 7.45696203 0.86265823 4.35189873 0.66265823 3.21772152]\n",
            " [3.9261477  4.1497006  0.79840319 6.69461078 0.62075848 2.27744511]]\n",
            "La desviación estándar de las variables es:\n",
            " [[1.95062542 3.52136997 0.34420782 2.3433645  0.47280262 1.87371962]\n",
            " [2.01603723 2.16198902 0.40119266 3.44163641 0.48519831 1.05765448]]\n",
            "El límite superior de las variables es:\n",
            " [[ 5.83480263 10.978332    1.20686605  6.69526323  1.13546084  5.09144114]\n",
            " [ 5.94218494  6.31168962  1.19959585 10.13624719  1.10595679  3.33509959]]\n",
            "El límite inferior de las variables es:\n",
            " [[1.9335518  3.93559205 0.51845041 2.00853424 0.18985561 1.3440019 ]\n",
            " [1.91011047 1.98771158 0.39721054 3.25297437 0.13556017 1.21979063]]\n"
          ]
        }
      ]
    },
    {
      "cell_type": "markdown",
      "source": [
        "5. Evaluación del desempeño del modelo"
      ],
      "metadata": {
        "id": "ItktPRExsJ1g"
      }
    },
    {
      "cell_type": "code",
      "source": [
        "ydp=mnb.predict(X)  #Pronostico\n",
        "\n",
        "from sklearn.metrics import confusion_matrix # se importa la función para calcular la matriz de confusión\n",
        "cm=confusion_matrix(y,ydp) # Calcula la matriz de confusión\n",
        "print (cm)\n",
        "\n",
        "# Se extraen los valores de la matriz de confusión\n",
        "VN = cm[0, 0]  # Verdaderos negativos\n",
        "FP = cm[0, 1]  # Falsos positivos\n",
        "FN = cm[1, 0]  # Falsos negativos\n",
        "VP = cm[1, 1]  # Verdaderos positivos\n",
        "\n",
        "Ex=(VP+VN)/(VP+VN+FP+FN) # Calcula y muestra la exactitud del modelo\n",
        "print (\"La exactitud del modelo es\", Ex)\n",
        "\n",
        "TE=(FP+FN)/(VP+VN+FP+FN) # Calcula y muestra el error del modelo\n",
        "print (\"El error del modelo es\", TE)\n",
        "\n",
        "Sen= VP/(VP+FN) # Calcula y muestra la sensibilidad del modelo\n",
        "print (\"La sensibilidad del modelo es\", Sen)\n",
        "\n",
        "ESP= VN/(VN+FP) # Calcula y muestra la especificidad del modelo\n",
        "print (\"La especificidad del modelo es\", ESP)\n",
        "\n",
        "pre= VP/(VP+FP) # Calcula y muestra la precisión del modelo\n",
        "print (\"La precisión del modelo es\", pre)\n",
        "\n",
        "pren= VN/(VN+FN) # Calcula y muestra la precisión negativa del modelo\n",
        "print (\"La precisión negativa del modelo es\", pren)"
      ],
      "metadata": {
        "colab": {
          "base_uri": "https://localhost:8080/"
        },
        "id": "RbNGnE_0R5s2",
        "outputId": "7bbeca0e-10b3-42f9-c936-3c796c3b5c6f"
      },
      "execution_count": null,
      "outputs": [
        {
          "output_type": "stream",
          "name": "stdout",
          "text": [
            "[[1365  215]\n",
            " [ 224  277]]\n",
            "La exactitud del modelo es 0.7890437289764536\n",
            "El error del modelo es 0.21095627102354636\n",
            "La sensibilidad del modelo es 0.5528942115768463\n",
            "La especificidad del modelo es 0.8639240506329114\n",
            "La precisión del modelo es 0.5630081300813008\n",
            "La precisión negativa del modelo es 0.8590308370044053\n"
          ]
        }
      ]
    },
    {
      "cell_type": "markdown",
      "source": [
        "**Análisis de resultados sobre el modelo:**\n",
        "Según los resultados obtenidos por el modelo, se pudo verificar el rendimiento del modelo Naive Bayes utilizando el archivo de  \"Car Crash \". Se observó que el modelo logró una precisión del 78.9%, lo que sugiere un buen desempeño general en la clasificación de accidentes automovilísticos tanto en autopistas como fuera de ellas.\n",
        "\n",
        "Es especialmente notable el rendimiento del modelo en la predicción de accidentes fuera de autopistas, con una especificidad del 86.3%, lo que demuestra la alta capacidad para identificar correctamente estos casos. Además, la precisión para esta categoría alcanzó un 85.9%, lo que refuerza la fiabilidad del modelo en este caso\n",
        "\n",
        "En general, los resultados muestran que el modelo tiene un buen desempeño al predecir accidentes fuera de las autopistas, aunque hay oportunidades para mejorar la detección de accidentes dentro de las autopistas.\n",
        "\n",
        "El análisis del modelo Naive Bayes para predecir accidentes en autopistas en San Francisco indica que las variables predictoras empleadas no presentan diferencias significativas en sus valores promedio entre los accidentes ocurridos en autopistas y aquellos fuera de ellas, lo que sugiere que ninguna variable, por sí sola, actúa como un predictor fuerte. Sin embargo, es fundamental analizar la matriz de confusión y las métricas de evaluación (exactitud, precisión, sensibilidad y especificidad) para evaluar el rendimiento real del modelo."
      ],
      "metadata": {
        "id": "bS42fXisqPJu"
      }
    },
    {
      "cell_type": "markdown",
      "source": [
        "**Respuestas preguntas**\n",
        "1) ¿Cuál es el número de datos total de la base de datos?"
      ],
      "metadata": {
        "id": "g8xx6COctz7o"
      }
    },
    {
      "cell_type": "code",
      "source": [
        "#Ya fue calculado en el punto 3 pero aqui lo pongo nuevamente\n",
        "total_datos = len(X)\n",
        "print(f\"El número total de datos es: {total_datos}\")"
      ],
      "metadata": {
        "colab": {
          "base_uri": "https://localhost:8080/"
        },
        "id": "oTZe1k8Et_5C",
        "outputId": "788295fc-b37e-4b1f-f727-910bf58a2694"
      },
      "execution_count": null,
      "outputs": [
        {
          "output_type": "stream",
          "name": "stdout",
          "text": [
            "El número total de datos es: 2081\n"
          ]
        }
      ]
    },
    {
      "cell_type": "markdown",
      "source": [
        "2) ¿Cuál es el porcentaje de los datos que hacen parte de cada una de las categorías de clasificación?"
      ],
      "metadata": {
        "id": "1jQIYlmuudzP"
      }
    },
    {
      "cell_type": "code",
      "source": [
        "#También fue calculado en el punto 3 pero aqui lo pongo nuevamente\n",
        "porcentajes_clase = ct / total_datos * 100\n",
        "print(\"Porcentaje de datos en cada categoría:\", porcentajes_clase)"
      ],
      "metadata": {
        "colab": {
          "base_uri": "https://localhost:8080/"
        },
        "id": "D2viR7hcuq8v",
        "outputId": "e1747e92-1f05-4d62-a7f8-5c6e84d07dca"
      },
      "execution_count": null,
      "outputs": [
        {
          "output_type": "stream",
          "name": "stdout",
          "text": [
            "Porcentaje de datos en cada categoría: [75.92503604 24.07496396]\n"
          ]
        }
      ]
    },
    {
      "cell_type": "markdown",
      "source": [
        "3) Determinar los intervalos en los cual se encuentra la variación de la ViolCat para cada una de las categorías de clasificación"
      ],
      "metadata": {
        "id": "Om1BTwR0vBmE"
      }
    },
    {
      "cell_type": "code",
      "source": [
        "std = np.sqrt(mnb.var_)  # Desviación  para cada variable- ViolCat es la N.2\n",
        "print(\"La desviación estándar de las variables es:\\n\", std)"
      ],
      "metadata": {
        "colab": {
          "base_uri": "https://localhost:8080/"
        },
        "id": "-s-hquwkvK1O",
        "outputId": "0c0dab37-8593-4355-936e-87bd0d6b4ef7"
      },
      "execution_count": null,
      "outputs": [
        {
          "output_type": "stream",
          "name": "stdout",
          "text": [
            "El intervalo de variación para el día de la semana es: (array([ 5.83480263, 10.978332  ,  1.20686605,  6.69526323,  1.13546084,\n",
            "        5.09144114]), array([1.9335518 , 3.93559205, 0.51845041, 2.00853424, 0.18985561,\n",
            "       1.3440019 ]))\n"
          ]
        }
      ]
    },
    {
      "cell_type": "markdown",
      "source": [
        "4) Determinar el intervalo en los cuales se encuentra la variación de la Categoría de accidentes para cada una de las categorías de clasificación"
      ],
      "metadata": {
        "id": "-KcdsQ5Iva8N"
      }
    },
    {
      "cell_type": "code",
      "source": [
        "std = np.sqrt(mnb.var_)  # Desviación  para cada variable\n",
        "print(\"La desviación estándar de las variables es:\\n\", std)"
      ],
      "metadata": {
        "id": "xbXyHVjFwBUX"
      },
      "execution_count": null,
      "outputs": []
    },
    {
      "cell_type": "markdown",
      "source": [
        "5) ¿Cuál es la exactitud alcanzada por el modelo?"
      ],
      "metadata": {
        "id": "_128jwklwzrn"
      }
    },
    {
      "cell_type": "code",
      "source": [
        "#Ya se encontró en el punto 5, pero aqui la dejo de nuevo\n",
        "Ex=(VP+VN)/(VP+VN+FP+FN)\n",
        "print (\"La exactitud del modelo es\", Ex)"
      ],
      "metadata": {
        "id": "fFj1yMr-w_2V"
      },
      "execution_count": null,
      "outputs": []
    },
    {
      "cell_type": "markdown",
      "source": [
        "6) ¿Cuál es la Especificidad alcanzada por el modelo?\n",
        "\n"
      ],
      "metadata": {
        "id": "4RkUHBucxDl-"
      }
    },
    {
      "cell_type": "code",
      "source": [
        "#También se encontró en el punto 5, pero aqui la dejo de nuevo\n",
        "ESP= VN/(VN+FP)\n",
        "print (\"La especificidad del modelo es\", ESP)"
      ],
      "metadata": {
        "id": "fR-rqlEcxUr9"
      },
      "execution_count": null,
      "outputs": []
    },
    {
      "cell_type": "markdown",
      "source": [
        "7) Indicar el intervalo en donde se ubica la cantidad de verdaderos negativo"
      ],
      "metadata": {
        "id": "u7bMDoXFx0t2"
      }
    },
    {
      "cell_type": "code",
      "source": [
        "print(f\"El valor de verdaderos negativos es: {VN}\")"
      ],
      "metadata": {
        "colab": {
          "base_uri": "https://localhost:8080/"
        },
        "id": "bRE_Lf3wzJG_",
        "outputId": "08173a7a-927f-46c7-d711-064c7791f82b"
      },
      "execution_count": null,
      "outputs": [
        {
          "output_type": "stream",
          "name": "stdout",
          "text": [
            "El valor de verdaderos negativos es: 1365\n"
          ]
        }
      ]
    },
    {
      "cell_type": "markdown",
      "source": [
        "8) Indicar el intervalo en donde se ubica la cantidad de verdaderos positivos"
      ],
      "metadata": {
        "id": "YydjetdAzVRx"
      }
    },
    {
      "cell_type": "code",
      "source": [
        "print(f\"El valor de verdaderos positivos es: {VP}\")"
      ],
      "metadata": {
        "colab": {
          "base_uri": "https://localhost:8080/"
        },
        "id": "24UVtFiQzX0M",
        "outputId": "2b23fa28-6429-492e-d047-8d99b45aeeba"
      },
      "execution_count": null,
      "outputs": [
        {
          "output_type": "stream",
          "name": "stdout",
          "text": [
            "El valor de verdaderos positivos es: 277\n"
          ]
        }
      ]
    },
    {
      "cell_type": "markdown",
      "source": [
        "9) ¿Cuál es la tasa de error alcanzada por el modelo?"
      ],
      "metadata": {
        "id": "IVB5S2jZzjom"
      }
    },
    {
      "cell_type": "code",
      "source": [
        "#También se encontró en el punto 5, pero aqui la dejo de nuevo\n",
        "TE=(FP+FN)/(VP+VN+FP+FN)\n",
        "print (\"El error del modelo es\", TE)"
      ],
      "metadata": {
        "colab": {
          "base_uri": "https://localhost:8080/"
        },
        "id": "NC_SmHM1z0p1",
        "outputId": "9a6792fd-1a93-4573-a771-2bb7dc00215d"
      },
      "execution_count": null,
      "outputs": [
        {
          "output_type": "stream",
          "name": "stdout",
          "text": [
            "El error del modelo es 0.21095627102354636\n"
          ]
        }
      ]
    },
    {
      "cell_type": "markdown",
      "source": [
        "10) ¿Cuál es la Sensibilidad alcanzada por el modelo?"
      ],
      "metadata": {
        "id": "FTldiRPn0CB0"
      }
    },
    {
      "cell_type": "code",
      "source": [
        "#También se encontró en el punto 5, pero aqui la dejo de nuevo\n",
        "Sen= VP/(VP+FN)\n",
        "print (\"La sensibilidad del modelo es\", Sen)"
      ],
      "metadata": {
        "id": "l5Qe53Dr0N6r"
      },
      "execution_count": null,
      "outputs": []
    },
    {
      "cell_type": "markdown",
      "source": [
        "11) ¿Cuál es la Precisión Alcanzada por el Modelo?"
      ],
      "metadata": {
        "id": "kzhXTMV70UQ7"
      }
    },
    {
      "cell_type": "code",
      "source": [
        "#También se encontró en el punto 5, pero aqui la dejo de nuevo\n",
        "pre= VP/(VP+FP)\n",
        "print (\"La precisión del modelo es\", pre)"
      ],
      "metadata": {
        "id": "tWm3DXog0aMI"
      },
      "execution_count": null,
      "outputs": []
    },
    {
      "cell_type": "markdown",
      "source": [
        "12) ¿Indicar la categoría a la que pertenece una persona con las siguientes características [5,1,1,3,4,0]?"
      ],
      "metadata": {
        "id": "uXJnli8T0kjD"
      }
    },
    {
      "cell_type": "code",
      "source": [
        "#Ya se encontró en el punto 3 pero aqui lo dejo de nuevo\n",
        "XS=[[5,1,1,3,4,0]]\n",
        "XS= mnb.predict(XS)\n",
        "print(XS)"
      ],
      "metadata": {
        "colab": {
          "base_uri": "https://localhost:8080/"
        },
        "id": "7OSmzHv00ru4",
        "outputId": "f1e1804d-a399-4d68-da6a-c1fa871eeb2c"
      },
      "execution_count": null,
      "outputs": [
        {
          "output_type": "stream",
          "name": "stdout",
          "text": [
            "[0]\n"
          ]
        },
        {
          "output_type": "stream",
          "name": "stderr",
          "text": [
            "/usr/local/lib/python3.11/dist-packages/sklearn/utils/validation.py:2739: UserWarning: X does not have valid feature names, but GaussianNB was fitted with feature names\n",
            "  warnings.warn(\n"
          ]
        }
      ]
    }
  ]
}